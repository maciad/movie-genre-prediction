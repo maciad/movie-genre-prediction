{
 "cells": [
  {
   "cell_type": "code",
   "execution_count": 2,
   "id": "2cd97a58",
   "metadata": {},
   "outputs": [],
   "source": [
    "import pandas\n",
    "import os"
   ]
  },
  {
   "cell_type": "code",
   "execution_count": 3,
   "id": "ec47a9b5",
   "metadata": {},
   "outputs": [],
   "source": [
    "# create a dataframe from all csv files in directory\n",
    "\n",
    "def create_dataframe_from_csvs(directory):\n",
    "    all_files = os.listdir(directory)\n",
    "    csv_files = [f for f in all_files if f.endswith('.csv')]\n",
    "    \n",
    "    dataframes = []\n",
    "    for file in csv_files:\n",
    "        file_path = os.path.join(directory, file)\n",
    "        df = pandas.read_csv(file_path)\n",
    "        dataframes.append(df)\n",
    "    \n",
    "    combined_dataframe = pandas.concat(dataframes, ignore_index=True)\n",
    "    return combined_dataframe"
   ]
  },
  {
   "cell_type": "code",
   "execution_count": 4,
   "id": "681a2dbf",
   "metadata": {},
   "outputs": [],
   "source": [
    "df = create_dataframe_from_csvs('text-data')"
   ]
  },
  {
   "cell_type": "code",
   "execution_count": 15,
   "id": "3e10afd5",
   "metadata": {},
   "outputs": [
    {
     "data": {
      "text/plain": [
       "array(['https://www.filmweb.pl/film/Zielona+mila-1999-862',\n",
       "       'https://www.filmweb.pl/film/Skazani+na+Shawshank-1994-1048',\n",
       "       'https://www.filmweb.pl/film/Forrest+Gump-1994-998', ...,\n",
       "       'https://www.filmweb.pl/film/Kult+laleczki+Chucky-2017-467290',\n",
       "       'https://www.filmweb.pl/film/Plan+wycieczki-2023-10043452',\n",
       "       'https://www.filmweb.pl/film/Fa%C5%82szerz-2014-699082'],\n",
       "      shape=(9801,), dtype=object)"
      ]
     },
     "execution_count": 15,
     "metadata": {},
     "output_type": "execute_result"
    }
   ],
   "source": [
    "df['url'].unique()"
   ]
  },
  {
   "cell_type": "code",
   "execution_count": 6,
   "id": "58d0d134",
   "metadata": {},
   "outputs": [
    {
     "name": "stdout",
     "output_type": "stream",
     "text": [
      "<class 'pandas.core.frame.DataFrame'>\n",
      "RangeIndex: 10000 entries, 0 to 9999\n",
      "Data columns (total 4 columns):\n",
      " #   Column       Non-Null Count  Dtype \n",
      "---  ------       --------------  ----- \n",
      " 0   url          10000 non-null  object\n",
      " 1   title        9990 non-null   object\n",
      " 2   genres       9990 non-null   object\n",
      " 3   description  9704 non-null   object\n",
      "dtypes: object(4)\n",
      "memory usage: 312.6+ KB\n"
     ]
    }
   ],
   "source": [
    "df.info()"
   ]
  },
  {
   "cell_type": "code",
   "execution_count": 7,
   "id": "bda3e9ab",
   "metadata": {},
   "outputs": [],
   "source": [
    "df_no_null = df.dropna()"
   ]
  },
  {
   "cell_type": "code",
   "execution_count": 8,
   "id": "471c6b10",
   "metadata": {},
   "outputs": [
    {
     "name": "stdout",
     "output_type": "stream",
     "text": [
      "<class 'pandas.core.frame.DataFrame'>\n",
      "Index: 9704 entries, 0 to 9999\n",
      "Data columns (total 4 columns):\n",
      " #   Column       Non-Null Count  Dtype \n",
      "---  ------       --------------  ----- \n",
      " 0   url          9704 non-null   object\n",
      " 1   title        9704 non-null   object\n",
      " 2   genres       9704 non-null   object\n",
      " 3   description  9704 non-null   object\n",
      "dtypes: object(4)\n",
      "memory usage: 379.1+ KB\n"
     ]
    }
   ],
   "source": [
    "df_no_null.info()"
   ]
  },
  {
   "cell_type": "code",
   "execution_count": 10,
   "id": "272c9360",
   "metadata": {},
   "outputs": [],
   "source": [
    "df_clean = df_no_null.drop_duplicates()"
   ]
  },
  {
   "cell_type": "code",
   "execution_count": 11,
   "id": "e164bb93",
   "metadata": {},
   "outputs": [
    {
     "data": {
      "text/html": [
       "<div>\n",
       "<style scoped>\n",
       "    .dataframe tbody tr th:only-of-type {\n",
       "        vertical-align: middle;\n",
       "    }\n",
       "\n",
       "    .dataframe tbody tr th {\n",
       "        vertical-align: top;\n",
       "    }\n",
       "\n",
       "    .dataframe thead th {\n",
       "        text-align: right;\n",
       "    }\n",
       "</style>\n",
       "<table border=\"1\" class=\"dataframe\">\n",
       "  <thead>\n",
       "    <tr style=\"text-align: right;\">\n",
       "      <th></th>\n",
       "      <th>url</th>\n",
       "      <th>title</th>\n",
       "      <th>genres</th>\n",
       "      <th>description</th>\n",
       "    </tr>\n",
       "  </thead>\n",
       "  <tbody>\n",
       "    <tr>\n",
       "      <th>0</th>\n",
       "      <td>https://www.filmweb.pl/film/Zielona+mila-1999-862</td>\n",
       "      <td>Zielona mila</td>\n",
       "      <td>Dramat</td>\n",
       "      <td>Rok 1935. Paul Edgecombe (Tom Hanks) jest jedn...</td>\n",
       "    </tr>\n",
       "    <tr>\n",
       "      <th>1</th>\n",
       "      <td>https://www.filmweb.pl/film/Skazani+na+Shawsha...</td>\n",
       "      <td>Skazani na Shawshank</td>\n",
       "      <td>Dramat</td>\n",
       "      <td>Film nakręcony na podstawie książki mistrza ho...</td>\n",
       "    </tr>\n",
       "    <tr>\n",
       "      <th>2</th>\n",
       "      <td>https://www.filmweb.pl/film/Forrest+Gump-1994-998</td>\n",
       "      <td>Forrest Gump</td>\n",
       "      <td>Dramat;Komedia</td>\n",
       "      <td>\"Forrest Gump\" to romantyczna historia, w któr...</td>\n",
       "    </tr>\n",
       "    <tr>\n",
       "      <th>3</th>\n",
       "      <td>https://www.filmweb.pl/film/Leon+zawodowiec-19...</td>\n",
       "      <td>Leon zawodowiec</td>\n",
       "      <td>Dramat;Kryminał</td>\n",
       "      <td>Leon (Jean Reno) jest płatnym zabójcą. W niczy...</td>\n",
       "    </tr>\n",
       "    <tr>\n",
       "      <th>4</th>\n",
       "      <td>https://www.filmweb.pl/film/Requiem+dla+snu-20...</td>\n",
       "      <td>Requiem dla snu</td>\n",
       "      <td>Dramat</td>\n",
       "      <td>Wstrząsająca opowieść o czwórce bohaterów z Br...</td>\n",
       "    </tr>\n",
       "    <tr>\n",
       "      <th>...</th>\n",
       "      <td>...</td>\n",
       "      <td>...</td>\n",
       "      <td>...</td>\n",
       "      <td>...</td>\n",
       "    </tr>\n",
       "    <tr>\n",
       "      <th>9984</th>\n",
       "      <td>https://www.filmweb.pl/film/Znikasz-2017-762581</td>\n",
       "      <td>Znikasz</td>\n",
       "      <td>Dramat</td>\n",
       "      <td>Sympatyczny i spokojny dyrektor szkoły zaczyna...</td>\n",
       "    </tr>\n",
       "    <tr>\n",
       "      <th>9985</th>\n",
       "      <td>https://www.filmweb.pl/film/Gadjo+dilo-1997-763</td>\n",
       "      <td>The Crazy Stranger</td>\n",
       "      <td>Obyczajowy</td>\n",
       "      <td>Młody Francuz, Stefan poszukując enigmatycznej...</td>\n",
       "    </tr>\n",
       "    <tr>\n",
       "      <th>9986</th>\n",
       "      <td>https://www.filmweb.pl/film/Fa%C5%82szywy+sena...</td>\n",
       "      <td>Fałszywy senator</td>\n",
       "      <td>Komedia</td>\n",
       "      <td>Kiedy umiera kongresmen Jeff Johnson, drobny k...</td>\n",
       "    </tr>\n",
       "    <tr>\n",
       "      <th>9988</th>\n",
       "      <td>https://www.filmweb.pl/film/Plan+wycieczki-202...</td>\n",
       "      <td>Plan wycieczki</td>\n",
       "      <td>Komedia;Akcja</td>\n",
       "      <td>Pracujący w salonie samochodowym Dan (Mark Wah...</td>\n",
       "    </tr>\n",
       "    <tr>\n",
       "      <th>9989</th>\n",
       "      <td>https://www.filmweb.pl/film/Fa%C5%82szerz-2014...</td>\n",
       "      <td>Fałszerz</td>\n",
       "      <td>Kryminał;Thriller</td>\n",
       "      <td>Najlepszy na świecie fałszerz sztuki Raymond J...</td>\n",
       "    </tr>\n",
       "  </tbody>\n",
       "</table>\n",
       "<p>9519 rows × 4 columns</p>\n",
       "</div>"
      ],
      "text/plain": [
       "                                                    url                 title  \\\n",
       "0     https://www.filmweb.pl/film/Zielona+mila-1999-862          Zielona mila   \n",
       "1     https://www.filmweb.pl/film/Skazani+na+Shawsha...  Skazani na Shawshank   \n",
       "2     https://www.filmweb.pl/film/Forrest+Gump-1994-998          Forrest Gump   \n",
       "3     https://www.filmweb.pl/film/Leon+zawodowiec-19...       Leon zawodowiec   \n",
       "4     https://www.filmweb.pl/film/Requiem+dla+snu-20...       Requiem dla snu   \n",
       "...                                                 ...                   ...   \n",
       "9984    https://www.filmweb.pl/film/Znikasz-2017-762581               Znikasz   \n",
       "9985    https://www.filmweb.pl/film/Gadjo+dilo-1997-763    The Crazy Stranger   \n",
       "9986  https://www.filmweb.pl/film/Fa%C5%82szywy+sena...      Fałszywy senator   \n",
       "9988  https://www.filmweb.pl/film/Plan+wycieczki-202...        Plan wycieczki   \n",
       "9989  https://www.filmweb.pl/film/Fa%C5%82szerz-2014...              Fałszerz   \n",
       "\n",
       "                 genres                                        description  \n",
       "0                Dramat  Rok 1935. Paul Edgecombe (Tom Hanks) jest jedn...  \n",
       "1                Dramat  Film nakręcony na podstawie książki mistrza ho...  \n",
       "2        Dramat;Komedia  \"Forrest Gump\" to romantyczna historia, w któr...  \n",
       "3       Dramat;Kryminał  Leon (Jean Reno) jest płatnym zabójcą. W niczy...  \n",
       "4                Dramat  Wstrząsająca opowieść o czwórce bohaterów z Br...  \n",
       "...                 ...                                                ...  \n",
       "9984             Dramat  Sympatyczny i spokojny dyrektor szkoły zaczyna...  \n",
       "9985         Obyczajowy  Młody Francuz, Stefan poszukując enigmatycznej...  \n",
       "9986            Komedia  Kiedy umiera kongresmen Jeff Johnson, drobny k...  \n",
       "9988      Komedia;Akcja  Pracujący w salonie samochodowym Dan (Mark Wah...  \n",
       "9989  Kryminał;Thriller  Najlepszy na świecie fałszerz sztuki Raymond J...  \n",
       "\n",
       "[9519 rows x 4 columns]"
      ]
     },
     "execution_count": 11,
     "metadata": {},
     "output_type": "execute_result"
    }
   ],
   "source": [
    "df_clean"
   ]
  },
  {
   "cell_type": "code",
   "execution_count": 13,
   "id": "f918afb7",
   "metadata": {},
   "outputs": [],
   "source": [
    "df_clean.to_csv('cleaned_data.csv', index=False)"
   ]
  }
 ],
 "metadata": {
  "kernelspec": {
   "display_name": "scraping",
   "language": "python",
   "name": "python3"
  },
  "language_info": {
   "codemirror_mode": {
    "name": "ipython",
    "version": 3
   },
   "file_extension": ".py",
   "mimetype": "text/x-python",
   "name": "python",
   "nbconvert_exporter": "python",
   "pygments_lexer": "ipython3",
   "version": "3.14.0"
  }
 },
 "nbformat": 4,
 "nbformat_minor": 5
}
